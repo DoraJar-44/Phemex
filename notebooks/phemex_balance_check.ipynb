{
  "cells": [
    {
      "cell_type": "code",
      "execution_count": null,
      "metadata": {},
      "outputs": [
        {
          "ename": "",
          "evalue": "",
          "output_type": "error",
          "traceback": [
            "\u001b[1;31mRunning cells with 'Python 3.13.3' requires the ipykernel package.\n",
            "\u001b[1;31m<a href='command:jupyter.createPythonEnvAndSelectController'>Create a Python Environment</a> with the required packages.\n",
            "\u001b[1;31mOr install 'ipykernel' using the command: '/usr/local/bin/python3 -m pip install ipykernel -U --user --force-reinstall'"
          ]
        }
      ],
      "source": [
        "# Phemex USDT-M Balance Check (No Terminal)\n",
        "\n",
        "import os, time, hmac, hashlib, json, urllib.parse, urllib.request\n",
        "from pathlib import Path\n",
        "\n",
        "# Load .env if present (simple parser, no external deps)\n",
        "root = Path(__file__).resolve().parents[1]\n",
        "env_path = root / '.env'\n",
        "if env_path.exists():\n",
        "    for line in env_path.read_text().splitlines():\n",
        "        line = line.strip()\n",
        "        if not line or line.startswith('#'):\n",
        "            continue\n",
        "        if '=' in line:\n",
        "            k, v = line.split('=', 1)\n",
        "            os.environ.setdefault(k.strip(), v.strip())\n",
        "\n",
        "API_KEY = os.getenv('PHEMEX_API_KEY', '')\n",
        "API_SECRET = os.getenv('PHEMEX_API_SECRET', '')\n",
        "BASE_URL = os.getenv('PHEMEX_BASE_URL', 'https://api.phemex.com')\n",
        "CURRENCY = os.getenv('PHEMEX_CURRENCY', 'USDT')\n",
        "\n",
        "assert API_KEY and API_SECRET, 'Set PHEMEX_API_KEY and PHEMEX_API_SECRET in .env before running.'\n",
        "\n",
        "\n",
        "def sign(secret: str, path: str, query: str, expiry: str, body: str) -> str:\n",
        "    msg = f\"{path}{query}{expiry}{body}\"\n",
        "    return hmac.new(secret.encode(), msg.encode(), hashlib.sha256).hexdigest()\n",
        "\n",
        "\n",
        "def get_account_info(currency: str) -> dict:\n",
        "    path = '/accounts/accountInfo'\n",
        "    query = f\"currency={urllib.parse.quote(currency)}\"\n",
        "    expiry = str(int(time.time()) + 60)\n",
        "    body = ''\n",
        "    signature = sign(API_SECRET, path, query, expiry, body)\n",
        "\n",
        "    url = f\"{BASE_URL}{path}?{query}\"\n",
        "    headers = {\n",
        "        'x-phemex-access-token': API_KEY,\n",
        "        'x-phemex-request-expiry': expiry,\n",
        "        'x-phemex-request-signature': signature,\n",
        "    }\n",
        "    req = urllib.request.Request(url, headers=headers, method='GET')\n",
        "    with urllib.request.urlopen(req, timeout=20) as resp:\n",
        "        return json.loads(resp.read().decode('utf-8'))\n",
        "\n",
        "# Run and pretty print\n",
        "resp = get_account_info(CURRENCY)\n",
        "print(json.dumps(resp, indent=2, sort_keys=True))\n"
      ]
    }
  ],
  "metadata": {
    "kernelspec": {
      "display_name": "Python 3",
      "language": "python",
      "name": "python3"
    },
    "language_info": {
      "name": "python",
      "version": "3.13.3"
    }
  },
  "nbformat": 4,
  "nbformat_minor": 2
}
